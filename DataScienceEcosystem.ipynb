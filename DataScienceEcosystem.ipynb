{
 "cells": [
  {
   "cell_type": "markdown",
   "id": "52c343ac-7530-4398-814c-0a8f044cceab",
   "metadata": {},
   "source": [
    "# Data Science Tools and Ecosystem"
   ]
  },
  {
   "cell_type": "markdown",
   "id": "c8c2a614-b727-4a5f-9cc1-3f7eac4560a5",
   "metadata": {},
   "source": [
    "In this notebook, Data Science Tools and Ecosystem are summarized."
   ]
  },
  {
   "cell_type": "markdown",
   "id": "ffef0a78-4ddd-4946-affd-6bb643f24d1c",
   "metadata": {},
   "source": [
    "**Objective:** \n"
   ]
  },
  {
   "cell_type": "markdown",
   "id": "f2d63233-96f3-4b57-a130-73f4ad52fec4",
   "metadata": {},
   "source": [
    "* Python\n",
    "* R\n",
    "* SQL\n",
    "* Julia\n",
    "* SAS"
   ]
  },
  {
   "cell_type": "markdown",
   "id": "ed3fc02e-96f3-448d-9958-9953c38a4966",
   "metadata": {},
   "source": [
    "Some of the commonly used libraries used by Data Scientist include:\n",
    "1. Numpy: for numerical computing and array opperations in python.\n",
    "2. Pandas: for data manipulation and analysis.\n",
    "3. Matplotlib: for creating visualisation and plots.\n",
    "4. Scikit-learn: for machine learning algorithms and tools.\n",
    "5. TensorFow: nfor building and training deep learning models."
   ]
  },
  {
   "cell_type": "markdown",
   "id": "d9e9dff2-1d0e-4727-a561-de7fab561a40",
   "metadata": {},
   "source": [
    "| Data Science Tools |\n",
    "| ------------------- |\n",
    "| Jupyter Notebook |\n",
    "| RStudio |\n",
    "| PyCharm |"
   ]
  },
  {
   "cell_type": "markdown",
   "id": "07fdac32-b8e9-4003-996a-ec3830e3a309",
   "metadata": {},
   "source": [
    "Below are few examples of evaluating arithmetic expressions in Python."
   ]
  },
  {
   "cell_type": "markdown",
   "id": "8ea658e9-8850-4bcc-9ed8-0b6a5614fec6",
   "metadata": {},
   "source": [
    "This is a simple arithmetic expression to multiply then add  integers.\n",
    "\n"
   ]
  },
  {
   "cell_type": "code",
   "execution_count": 9,
   "id": "90276596-5bb3-4a7d-8144-9faa6542ece9",
   "metadata": {},
   "outputs": [
    {
     "data": {
      "text/plain": [
       "17"
      ]
     },
     "execution_count": 9,
     "metadata": {},
     "output_type": "execute_result"
    }
   ],
   "source": [
    "(3*4)+5\n"
   ]
  },
  {
   "cell_type": "markdown",
   "id": "44af6fca-be24-4e57-b601-5bc1a953194b",
   "metadata": {},
   "source": [
    "This will convert 200 minutes to hours by dividing by 60."
   ]
  },
  {
   "cell_type": "code",
   "execution_count": 10,
   "id": "cd4003ce-c686-410a-9cc5-ebbb07ee6947",
   "metadata": {},
   "outputs": [
    {
     "data": {
      "text/plain": [
       "3.3333333333333335"
      ]
     },
     "execution_count": 10,
     "metadata": {},
     "output_type": "execute_result"
    }
   ],
   "source": [
    "(200)/60"
   ]
  },
  {
   "cell_type": "markdown",
   "id": "1d06d4bb-a44f-4258-9537-f1e384a8064b",
   "metadata": {},
   "source": [
    "## Author\n",
    "Dare Akanbi"
   ]
  },
  {
   "cell_type": "code",
   "execution_count": null,
   "id": "f6bae181-3621-48b5-9cd8-7868aade1964",
   "metadata": {},
   "outputs": [],
   "source": []
  }
 ],
 "metadata": {
  "kernelspec": {
   "display_name": "Python 3 (ipykernel)",
   "language": "python",
   "name": "python3"
  },
  "language_info": {
   "codemirror_mode": {
    "name": "ipython",
    "version": 3
   },
   "file_extension": ".py",
   "mimetype": "text/x-python",
   "name": "python",
   "nbconvert_exporter": "python",
   "pygments_lexer": "ipython3",
   "version": "3.11.5"
  }
 },
 "nbformat": 4,
 "nbformat_minor": 5
}
